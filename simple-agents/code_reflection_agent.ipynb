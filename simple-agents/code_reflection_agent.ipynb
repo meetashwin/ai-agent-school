{
 "cells": [
  {
   "cell_type": "markdown",
   "id": "3fea05b3-7321-4d15-bc06-2474bea6d3a1",
   "metadata": {},
   "source": [
    "This is an agent that demonstrates the \"Agent Reflection Pattern\"\n",
    "\n",
    "What is an Agent Reflection Pattern?\n",
    " \n",
    "The Reflection Pattern is a powerful approach in AI, particularly for large language models (LLMs), where an iterative process of generation and self-assessment improves the output quality.\n",
    "\n",
    "What's the use case that this code represents?\n",
    "\n",
    "1. Get user input which is a problem statement to generate code (Use LLM1)\n",
    "2. Generate V1 code\n",
    "3. Reflect and refine (Use LLM2) - V1 code is reviewed, critiqued.  Returns reflection and refined V2 code\n",
    "4. Output V2 code"
   ]
  },
  {
   "cell_type": "code",
   "execution_count": 2,
   "id": "699e653c-ed3a-42d3-af75-0fe088ddc029",
   "metadata": {},
   "outputs": [
    {
     "name": "stdout",
     "output_type": "stream",
     "text": [
      "Requirement already satisfied: aisuite[all] in /Library/Frameworks/Python.framework/Versions/3.13/lib/python3.13/site-packages (0.1.12)\n",
      "Requirement already satisfied: anthropic<0.31.0,>=0.30.1 in /Library/Frameworks/Python.framework/Versions/3.13/lib/python3.13/site-packages (from aisuite[all]) (0.30.1)\n",
      "Requirement already satisfied: cerebras_cloud_sdk<2.0.0,>=1.19.0 in /Library/Frameworks/Python.framework/Versions/3.13/lib/python3.13/site-packages (from aisuite[all]) (1.50.1)\n",
      "Requirement already satisfied: cohere<6.0.0,>=5.12.0 in /Library/Frameworks/Python.framework/Versions/3.13/lib/python3.13/site-packages (from aisuite[all]) (5.19.0)\n",
      "Requirement already satisfied: docstring-parser<0.15.0,>=0.14.0 in /Library/Frameworks/Python.framework/Versions/3.13/lib/python3.13/site-packages (from aisuite[all]) (0.14.1)\n",
      "Requirement already satisfied: groq<0.10.0,>=0.9.0 in /Library/Frameworks/Python.framework/Versions/3.13/lib/python3.13/site-packages (from aisuite[all]) (0.9.0)\n",
      "Requirement already satisfied: httpx<0.28.0,>=0.27.0 in /Library/Frameworks/Python.framework/Versions/3.13/lib/python3.13/site-packages (from aisuite[all]) (0.27.2)\n",
      "Requirement already satisfied: openai<2.0.0,>=1.35.8 in /Library/Frameworks/Python.framework/Versions/3.13/lib/python3.13/site-packages (from aisuite[all]) (1.76.0)\n",
      "Requirement already satisfied: pydantic<3.0.0,>=2.0.0 in /Library/Frameworks/Python.framework/Versions/3.13/lib/python3.13/site-packages (from aisuite[all]) (2.11.3)\n",
      "Requirement already satisfied: anyio<5,>=3.5.0 in /Library/Frameworks/Python.framework/Versions/3.13/lib/python3.13/site-packages (from anthropic<0.31.0,>=0.30.1->aisuite[all]) (4.9.0)\n",
      "Requirement already satisfied: distro<2,>=1.7.0 in /Library/Frameworks/Python.framework/Versions/3.13/lib/python3.13/site-packages (from anthropic<0.31.0,>=0.30.1->aisuite[all]) (1.9.0)\n",
      "Requirement already satisfied: jiter<1,>=0.4.0 in /Library/Frameworks/Python.framework/Versions/3.13/lib/python3.13/site-packages (from anthropic<0.31.0,>=0.30.1->aisuite[all]) (0.9.0)\n",
      "Requirement already satisfied: sniffio in /Library/Frameworks/Python.framework/Versions/3.13/lib/python3.13/site-packages (from anthropic<0.31.0,>=0.30.1->aisuite[all]) (1.3.1)\n",
      "Requirement already satisfied: tokenizers>=0.13.0 in /Library/Frameworks/Python.framework/Versions/3.13/lib/python3.13/site-packages (from anthropic<0.31.0,>=0.30.1->aisuite[all]) (0.22.1)\n",
      "Requirement already satisfied: typing-extensions<5,>=4.7 in /Library/Frameworks/Python.framework/Versions/3.13/lib/python3.13/site-packages (from anthropic<0.31.0,>=0.30.1->aisuite[all]) (4.13.2)\n",
      "Requirement already satisfied: fastavro<2.0.0,>=1.9.4 in /Library/Frameworks/Python.framework/Versions/3.13/lib/python3.13/site-packages (from cohere<6.0.0,>=5.12.0->aisuite[all]) (1.12.1)\n",
      "Requirement already satisfied: httpx-sse==0.4.0 in /Library/Frameworks/Python.framework/Versions/3.13/lib/python3.13/site-packages (from cohere<6.0.0,>=5.12.0->aisuite[all]) (0.4.0)\n",
      "Requirement already satisfied: pydantic-core<3.0.0,>=2.18.2 in /Library/Frameworks/Python.framework/Versions/3.13/lib/python3.13/site-packages (from cohere<6.0.0,>=5.12.0->aisuite[all]) (2.33.1)\n",
      "Requirement already satisfied: requests<3.0.0,>=2.0.0 in /Library/Frameworks/Python.framework/Versions/3.13/lib/python3.13/site-packages (from cohere<6.0.0,>=5.12.0->aisuite[all]) (2.32.4)\n",
      "Requirement already satisfied: types-requests<3.0.0,>=2.0.0 in /Library/Frameworks/Python.framework/Versions/3.13/lib/python3.13/site-packages (from cohere<6.0.0,>=5.12.0->aisuite[all]) (2.32.4.20250913)\n",
      "Requirement already satisfied: certifi in /Library/Frameworks/Python.framework/Versions/3.13/lib/python3.13/site-packages (from httpx<0.28.0,>=0.27.0->aisuite[all]) (2025.4.26)\n",
      "Requirement already satisfied: httpcore==1.* in /Library/Frameworks/Python.framework/Versions/3.13/lib/python3.13/site-packages (from httpx<0.28.0,>=0.27.0->aisuite[all]) (1.0.9)\n",
      "Requirement already satisfied: idna in /Library/Frameworks/Python.framework/Versions/3.13/lib/python3.13/site-packages (from httpx<0.28.0,>=0.27.0->aisuite[all]) (3.10)\n",
      "Requirement already satisfied: h11>=0.16 in /Library/Frameworks/Python.framework/Versions/3.13/lib/python3.13/site-packages (from httpcore==1.*->httpx<0.28.0,>=0.27.0->aisuite[all]) (0.16.0)\n",
      "Requirement already satisfied: tqdm>4 in /Library/Frameworks/Python.framework/Versions/3.13/lib/python3.13/site-packages (from openai<2.0.0,>=1.35.8->aisuite[all]) (4.67.1)\n",
      "Requirement already satisfied: annotated-types>=0.6.0 in /Library/Frameworks/Python.framework/Versions/3.13/lib/python3.13/site-packages (from pydantic<3.0.0,>=2.0.0->aisuite[all]) (0.7.0)\n",
      "Requirement already satisfied: typing-inspection>=0.4.0 in /Library/Frameworks/Python.framework/Versions/3.13/lib/python3.13/site-packages (from pydantic<3.0.0,>=2.0.0->aisuite[all]) (0.4.0)\n",
      "Requirement already satisfied: charset_normalizer<4,>=2 in /Library/Frameworks/Python.framework/Versions/3.13/lib/python3.13/site-packages (from requests<3.0.0,>=2.0.0->cohere<6.0.0,>=5.12.0->aisuite[all]) (3.4.2)\n",
      "Requirement already satisfied: urllib3<3,>=1.21.1 in /Library/Frameworks/Python.framework/Versions/3.13/lib/python3.13/site-packages (from requests<3.0.0,>=2.0.0->cohere<6.0.0,>=5.12.0->aisuite[all]) (2.5.0)\n",
      "Requirement already satisfied: huggingface-hub<2.0,>=0.16.4 in /Library/Frameworks/Python.framework/Versions/3.13/lib/python3.13/site-packages (from tokenizers>=0.13.0->anthropic<0.31.0,>=0.30.1->aisuite[all]) (0.35.3)\n",
      "Requirement already satisfied: filelock in /Library/Frameworks/Python.framework/Versions/3.13/lib/python3.13/site-packages (from huggingface-hub<2.0,>=0.16.4->tokenizers>=0.13.0->anthropic<0.31.0,>=0.30.1->aisuite[all]) (3.20.0)\n",
      "Requirement already satisfied: fsspec>=2023.5.0 in /Library/Frameworks/Python.framework/Versions/3.13/lib/python3.13/site-packages (from huggingface-hub<2.0,>=0.16.4->tokenizers>=0.13.0->anthropic<0.31.0,>=0.30.1->aisuite[all]) (2025.9.0)\n",
      "Requirement already satisfied: packaging>=20.9 in /Library/Frameworks/Python.framework/Versions/3.13/lib/python3.13/site-packages (from huggingface-hub<2.0,>=0.16.4->tokenizers>=0.13.0->anthropic<0.31.0,>=0.30.1->aisuite[all]) (25.0)\n",
      "Requirement already satisfied: pyyaml>=5.1 in /Library/Frameworks/Python.framework/Versions/3.13/lib/python3.13/site-packages (from huggingface-hub<2.0,>=0.16.4->tokenizers>=0.13.0->anthropic<0.31.0,>=0.30.1->aisuite[all]) (6.0.2)\n",
      "Requirement already satisfied: hf-xet<2.0.0,>=1.1.3 in /Library/Frameworks/Python.framework/Versions/3.13/lib/python3.13/site-packages (from huggingface-hub<2.0,>=0.16.4->tokenizers>=0.13.0->anthropic<0.31.0,>=0.30.1->aisuite[all]) (1.1.10)\n",
      "\n",
      "\u001b[1m[\u001b[0m\u001b[34;49mnotice\u001b[0m\u001b[1;39;49m]\u001b[0m\u001b[39;49m A new release of pip is available: \u001b[0m\u001b[31;49m25.0.1\u001b[0m\u001b[39;49m -> \u001b[0m\u001b[32;49m25.2\u001b[0m\n",
      "\u001b[1m[\u001b[0m\u001b[34;49mnotice\u001b[0m\u001b[1;39;49m]\u001b[0m\u001b[39;49m To update, run: \u001b[0m\u001b[32;49mpip3 install --upgrade pip\u001b[0m\n"
     ]
    }
   ],
   "source": [
    "# Install AI Suite\n",
    "!pip3 install \"aisuite[all]\""
   ]
  },
  {
   "cell_type": "code",
   "execution_count": 3,
   "id": "f6161073-62c2-4ddc-b592-a7e8b04ad427",
   "metadata": {},
   "outputs": [],
   "source": [
    "# Custom pretty printing function\n",
    "from pprint import pprint as pp\n",
    "# Set a custom width for pretty-printing\n",
    "def pprint(data, width=80):\n",
    "    \"\"\"Pretty print data with a specified width.\"\"\"\n",
    "    pp(data, width=width)# List of model identifiers to query"
   ]
  },
  {
   "cell_type": "code",
   "execution_count": 9,
   "id": "d990a07c-5fc5-429e-84ad-3acf3e856e95",
   "metadata": {},
   "outputs": [
    {
     "name": "stdout",
     "output_type": "stream",
     "text": [
      "Enter your Anthropic API key:  ········\n"
     ]
    }
   ],
   "source": [
    "# Setting API keys - LLM1\n",
    "import os\n",
    "import aisuite as ai\n",
    "from getpass import getpass\n",
    "os.environ['ANTHROPIC_API_KEY'] = getpass('Enter your Anthropic API key: ')"
   ]
  },
  {
   "cell_type": "code",
   "execution_count": 15,
   "id": "dd3f6f33-aab8-4ef3-aeaf-50aa179c8e6e",
   "metadata": {},
   "outputs": [
    {
     "name": "stdout",
     "output_type": "stream",
     "text": [
      "Enter your OpenAI API key:  ········\n"
     ]
    }
   ],
   "source": [
    "# Setting API keys - LLM2\n",
    "os.environ['OPENAI_API_KEY'] = getpass('Enter your OpenAI API key: ')"
   ]
  },
  {
   "cell_type": "code",
   "execution_count": 16,
   "id": "e0b7d9b0-2a26-4c29-989d-ef7ca6dd9460",
   "metadata": {},
   "outputs": [],
   "source": [
    "# Define a function to interact with the LLM Model\n",
    "\n",
    "def generate_code(message, sys_message=\"You are a helpful agent.\",\n",
    "         model=\"openai:gpt-4o\"):\n",
    "    # Initialize the AI client for accessing the language model\n",
    "    client = ai.Client()\n",
    "\n",
    "    # Construct the messages list for the chat\n",
    "    messages = [\n",
    "        {\"role\": \"system\", \"content\": sys_message},\n",
    "        {\"role\": \"user\", \"content\": message}\n",
    "    ]\n",
    "\n",
    "    # Send the messages to the model and get the response\n",
    "    response = client.chat.completions.create(model=model, messages=messages)\n",
    "\n",
    "    # Return the content of the model's response\n",
    "    return response.choices[0].message.content"
   ]
  },
  {
   "cell_type": "code",
   "execution_count": 19,
   "id": "c23abf43-334b-4776-8a55-13249ef82ad4",
   "metadata": {},
   "outputs": [],
   "source": [
    "# Define the workflow\n",
    "\n",
    "# Step 1 : Generate V1 code with LLM1\n",
    "# Step 2 : Review and refine code with LLM2\n",
    "# Step 3 : Generate V2 code with LLM2\n",
    "\n",
    "def run_workflow(\n",
    "    user_instructions: str,\n",
    "    generation_model: str,\n",
    "    reflection_model: str,   \n",
    "):\n",
    "    \"\"\"\n",
    "    End-to-end pipeline:\n",
    "      1) Generate V1 code with LLM1\n",
    "      2) Review and refine code with LLM2\n",
    "      3) Generate V2 code with LLM2\n",
    "\n",
    "    Returns a dict with all artifacts (codes, feedback).\n",
    "    \"\"\"\n",
    "    # 1) Generate V1 code with LLM1\n",
    "    code_v1 = generate_code(\n",
    "        message=user_instructions,\n",
    "        sys_message=\"You are a helpful coding agent\",\n",
    "        model=generation_model,\n",
    "    )\n",
    "    print('***** Original Code generated by generation_model *****')\n",
    "    print(code_v1)\n",
    "\n",
    "    # 2 and 3) Review and refine code with LLM2, Generate V2 code with LLM2\n",
    "    code_v2 = generate_code(\n",
    "        message=code_v1,\n",
    "        sys_message=\"You are a helpful code review agent.  Review the code passed to you, improve and respond with a refined version of the code\",\n",
    "        model=reflection_model,\n",
    "    )    \n",
    "\n",
    "    print('***** Revised Code generated by reflection_model *****')\n",
    "    print(code_v2)\n",
    "\n",
    "    return {\n",
    "        \"code_v1\": code_v1,\n",
    "        \"code_v1\": code_v2,\n",
    "    }"
   ]
  },
  {
   "cell_type": "code",
   "execution_count": 20,
   "id": "f279b3c9-6782-4769-ab64-ca5662235ba8",
   "metadata": {},
   "outputs": [
    {
     "name": "stdout",
     "output_type": "stream",
     "text": [
      "***** Original Code generated by generation_model *****\n",
      "Sure! Here’s a simple Python program to check if a number is prime:\n",
      "\n",
      "```python\n",
      "def is_prime(n):\n",
      "    \"\"\"Check if a number is prime.\"\"\"\n",
      "    if n <= 1:\n",
      "        return False\n",
      "    elif n <= 3:\n",
      "        return True\n",
      "    elif n % 2 == 0 or n % 3 == 0:\n",
      "        return False\n",
      "    \n",
      "    i = 5\n",
      "    while i * i <= n:\n",
      "        if n % i == 0 or n % (i + 2) == 0:\n",
      "            return False\n",
      "        i += 6\n",
      "    \n",
      "    return True\n",
      "\n",
      "# Input from the user\n",
      "number = int(input(\"Enter a number to check if it's prime: \"))\n",
      "\n",
      "# Check if the number is prime\n",
      "if is_prime(number):\n",
      "    print(f\"{number} is a prime number.\")\n",
      "else:\n",
      "    print(f\"{number} is not a prime number.\")\n",
      "```\n",
      "\n",
      "### How the Program Works:\n",
      "1. **Input**: The program prompts the user to enter a number.\n",
      "2. **Prime Check**:\n",
      "   - It first checks if the number is less than or equal to 1 (not prime) or is 2 or 3 (both prime).\n",
      "   - Then it eliminates even numbers and multiples of 3.\n",
      "   - For numbers greater than 3, it checks for factors up to the square root of the number using a loop, checking potential factors of the form `6k ± 1` (this is because all prime numbers are of that form, beyond 3).\n",
      "3. **Output**: The program outputs whether the entered number is prime or not.\n",
      "\n",
      "You can run this program in a Python environment or save it to a `.py` file to execute.\n",
      "***** Revised Code generated by reflection_model *****\n",
      "The provided code is a well-written implementation of the prime number checking algorithm. However, there are a few minor improvements that can be made to make the code more efficient and readable:\n",
      "\n",
      "```python\n",
      "def is_prime(n):\n",
      "    \"\"\"Check if a number is prime.\"\"\"\n",
      "    if n <= 1:\n",
      "        return False\n",
      "    elif n <= 3:\n",
      "        return True\n",
      "    elif n % 2 == 0 or n % 3 == 0:\n",
      "        return False\n",
      "\n",
      "    i = 5\n",
      "    while i * i <= n:\n",
      "        if n % i == 0 or n % (i + 2) == 0:\n",
      "            return False\n",
      "        i += 6\n",
      "\n",
      "    return True\n",
      "\n",
      "def main():\n",
      "    # Input from the user\n",
      "    number = int(input(\"Enter a number to check if it's prime: \"))\n",
      "\n",
      "    # Check if the number is prime\n",
      "    if is_prime(number):\n",
      "        print(f\"{number} is a prime number.\")\n",
      "    else:\n",
      "        print(f\"{number} is not a prime number.\")\n",
      "\n",
      "if __name__ == \"__main__\":\n",
      "    main()\n",
      "```\n",
      "\n",
      "Here are the changes:\n",
      "\n",
      "1. I've moved the main logic of the program into a separate `main()` function, which is called when the script is run directly (i.e., not imported as a module). This separation of concerns makes the code more modular and easier to maintain.\n",
      "\n",
      "2. I've added an `if __name__ == \"__main__\":` block to ensure that the `main()` function is only executed when the script is run directly, and not when it's imported as a module.\n",
      "\n",
      "3. I've removed the unnecessary docstring from the `main()` function, as it's not necessary for a simple program like this.\n",
      "\n",
      "These changes make the code more organized and easier to read, without changing the core functionality.\n"
     ]
    }
   ],
   "source": [
    "# Run the workflow\n",
    "\n",
    "# Here, insert your updates\n",
    "user_instructions=\"Create a program to find if a number is prime\" # write your instruction here\n",
    "generation_model=\"openai:gpt-4o-mini\"\n",
    "reflection_model=\"anthropic:claude-3-haiku-20240307\"\n",
    "\n",
    "# Run the complete agentic workflow\n",
    "_ = run_workflow(\n",
    "    user_instructions=user_instructions,\n",
    "    generation_model=generation_model,\n",
    "    reflection_model=reflection_model\n",
    ")"
   ]
  },
  {
   "cell_type": "code",
   "execution_count": null,
   "id": "ff74f8d6-5142-469f-ad7c-85dd116e05c0",
   "metadata": {},
   "outputs": [],
   "source": []
  }
 ],
 "metadata": {
  "kernelspec": {
   "display_name": "Python 3 (ipykernel)",
   "language": "python",
   "name": "python3"
  },
  "language_info": {
   "codemirror_mode": {
    "name": "ipython",
    "version": 3
   },
   "file_extension": ".py",
   "mimetype": "text/x-python",
   "name": "python",
   "nbconvert_exporter": "python",
   "pygments_lexer": "ipython3",
   "version": "3.13.3"
  }
 },
 "nbformat": 4,
 "nbformat_minor": 5
}
